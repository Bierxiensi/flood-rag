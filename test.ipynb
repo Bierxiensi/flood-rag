{
 "cells": [
  {
   "cell_type": "code",
   "execution_count": null,
   "id": "36d9c998",
   "metadata": {},
   "outputs": [],
   "source": [
    "from datasets import load_dataset\n",
    "from transformers import AutoTokenizer, AutoModelForCausalLM, TrainingArguments, Trainer\n",
    "from peft import LoraConfig, get_peft_model\n",
    "\n",
    "# 1. 加载模型\n",
    "model_name = \"Qwen/Qwen2.5-0.5B\"\n",
    "tokenizer = AutoTokenizer.from_pretrained(model_name)\n",
    "model = AutoModelForCausalLM.from_pretrained(model_name)\n",
    "\n",
    "# 2. 加载数据集（JSONL）\n",
    "dataset = load_dataset(\"json\", data_files={\"train\": \"./data/train.jsonl\", \"test\": \"./data/test.jsonl\"})\n",
    "\n",
    "# 3. LoRA 配置\n",
    "lora_config = LoraConfig(\n",
    "    r=8, lora_alpha=16, target_modules=[\"q_proj\",\"v_proj\"],\n",
    "    lora_dropout=0.1, bias=\"none\", task_type=\"CAUSAL_LM\"\n",
    ")\n",
    "model = get_peft_model(model)\n",
    "\n",
    "# 4. 训练参数\n",
    "training_args = TrainingArguments(\n",
    "    output_dir=\"./rag_lora\",\n",
    "    per_device_train_batch_size=2,\n",
    "    learning_rate=2e-4,\n",
    "    num_train_epochs=3,\n",
    "    logging_steps=10,\n",
    "    save_steps=1000,\n",
    "    evaluation_strategy=\"steps\"\n",
    ")\n",
    "\n",
    "# 5. Trainer\n",
    "def collate_fn(batch):\n",
    "    inputs = [tokenizer(b[\"instruction\"] + \"\\n\" + b[\"input\"], return_tensors=\"pt\") for b in batch]\n",
    "    labels = [tokenizer(b[\"output\"], return_tensors=\"pt\") for b in batch]\n",
    "    # 需要自行处理padding和labels对齐\n",
    "    return {\"input_ids\": ..., \"labels\": ...}\n",
    "\n",
    "trainer = Trainer(\n",
    "    model=model,\n",
    "    args=training_args,\n",
    "    train_dataset=dataset[\"train\"],\n",
    "    eval_dataset=dataset[\"test\"],\n",
    "    data_collator=collate_fn\n",
    ")\n",
    "\n",
    "trainer.train()\n"
   ]
  }
 ],
 "metadata": {
  "kernelspec": {
   "display_name": ".venv (3.9.6)",
   "language": "python",
   "name": "python3"
  },
  "language_info": {
   "codemirror_mode": {
    "name": "ipython",
    "version": 3
   },
   "file_extension": ".py",
   "mimetype": "text/x-python",
   "name": "python",
   "nbconvert_exporter": "python",
   "pygments_lexer": "ipython3",
   "version": "3.9.6"
  }
 },
 "nbformat": 4,
 "nbformat_minor": 5
}
