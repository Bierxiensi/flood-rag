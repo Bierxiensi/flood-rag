{
 "cells": [
  {
   "cell_type": "code",
   "execution_count": null,
   "id": "36d9c998",
   "metadata": {},
   "outputs": [],
   "source": [
    "from langchain.embeddings import HuggingFaceEmbeddings\n",
    "from langchain.vectorstores import FAISS\n",
    "from langchain.prompts import PromptTemplate\n",
    "from langchain.chat_models import ChatOpenAI\n",
    "\n",
    "# 构建历史数据知识库\n",
    "def build_kb(df, feature_cols, target_col, past_len=30):\n",
    "    # 假设每行数据为一个历史窗口\n",
    "    windows = []\n",
    "    for i in range(len(df) - past_len):\n",
    "        window = df.iloc[i:i+past_len]\n",
    "        text_repr = \"\\n\".join([f\"{col}: {row[col]}\" for col in feature_cols for _, row in window.iterrows()])\n",
    "        windows.append(text_repr)\n",
    "    \n",
    "    embeddings = HuggingFaceEmbeddings(model_name=\"sentence-transformers/all-MiniLM-L6-v2\")\n",
    "    vectorstore = FAISS.from_documents(windows, embeddings)\n",
    "    return vectorstore\n",
    "\n",
    "# 预测模型\n",
    "def predict_streamflow(current_window_df, vectorstore, model, prompt_template):\n",
    "    # 生成文本描述\n",
    "    query_text = \"\\n\".join([f\"{col}: {current_window_df[col].values[-1]}\" for col in feature_cols])\n",
    "    \n",
    "    # 检索相似的历史片段\n",
    "    results = vectorstore.similarity_search(query_text, k=5)\n",
    "    \n",
    "    # 格式化提示文本\n",
    "    prompt = prompt_template.format(recent_data=query_text, similar_chunks=\"\\n\\n\".join(results))\n",
    "    \n",
    "    # 调用 LLM 模型进行预测\n",
    "    response = model.predict(prompt)\n",
    "    return response\n",
    "\n",
    "# 示例：构建知识库并预测\n",
    "vectorstore = build_kb(df, feature_cols=[\"temperature_2m_mean\", \"total_precipitation_sum\", \"streamflow\"], target_col=\"streamflow\")\n",
    "llm_model = ChatOpenAI(model=\"gpt-4o\", temperature=0)\n",
    "prompt_template = \"\"\"\n",
    "You are a water flow prediction expert. Given the following recent data and similar historical patterns, predict the streamflow for the next 7 days.\n",
    "Recent data: {recent_data}\n",
    "Similar historical data:\n",
    "{similar_chunks}\n",
    "\"\"\"\n",
    "current_window_df = df.iloc[-30:]  # 假设最近30天的数据\n",
    "prediction = predict_streamflow(current_window_df, vectorstore, llm_model, prompt_template)\n",
    "print(\"Predicted Streamflow:\", prediction)\n"
   ]
  }
 ],
 "metadata": {
  "kernelspec": {
   "display_name": "Python 3",
   "language": "python",
   "name": "python3"
  },
  "language_info": {
   "name": "python",
   "version": "3.9.6"
  }
 },
 "nbformat": 4,
 "nbformat_minor": 5
}
